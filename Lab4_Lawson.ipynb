{
 "cells": [
  {
   "cell_type": "markdown",
   "metadata": {},
   "source": [
    "# Name:"
   ]
  },
  {
   "cell_type": "markdown",
   "metadata": {},
   "source": [
    "<font size = '5' color='Red'>\n",
    "Final score: 14.25/15\n",
    "</font>"
   ]
  },
  {
   "cell_type": "markdown",
   "metadata": {},
   "source": [
    "James Lawson"
   ]
  },
  {
   "cell_type": "markdown",
   "metadata": {},
   "source": [
    "## Lab 4"
   ]
  },
  {
   "cell_type": "markdown",
   "metadata": {},
   "source": [
    "Part of this laboratory is based on material you have learned in class. However, a large portion of a data scientist's job is to study documentation and research additional materials. To make you prepared for such a constantly changing data landscape, several problems in this or other labs may rely on functions and methods which haven't been covered in class. A large portion of this assignment grade will be reflecting your ability to adapt new functions and methods using documentation and/or online resources. \n",
    "\n",
    "For example: if you needed to know how to take the square root of a number in Python, you could google: 'square root function python'. This search would direct you to the function sqrt() in the math library.\n",
    "\n",
    "**Directions:**\n",
    "\n",
    "Please compose your code in the appropriate Jupyter Notebook cell below the problem desription. Make sure to provide a printout in requested format.\n",
    "\n",
    "**Lab Policies**:\n",
    "\n",
    "   -   If your running your code leads to an **error message**, your grade for this code will be **reduced by 100%**.\n",
    "\n",
    "   -  To get full credit for each  problem, your code should produce a neat and informative output. Depending on the problem, you will be asked to produce either informative printout or type a written conclusion. If you were asked to calculate the number of instances of the letter 'e' in the string: 'Old MacDonald had a farm.', your printout would look say something like: 'Number of 'e' characters in the string = 0'. See specific details in the individual problem descriptions.\n",
    "\n",
    "   - Data for each problem are given to you in the format most convenient to the data collector. It is not necessarily (and in fact almost never) the most convenient format for data analysis. You can choose to either to work with the given format or convert it to any of the other variable types studied in class. However, you are not allowed to just re-type the data. All type conversions should be done algorithmically.\n",
    "\n",
    "   - You are welcome to consult with your classmates and ANY online resources while working on this lab. Feel free to adapt (copy and paste and then change) any code from pre-class tutorials and workshops. It is never useful to needlessly duplicate effort."
   ]
  },
  {
   "cell_type": "markdown",
   "metadata": {},
   "source": [
    "##  Problem 1: GDP of world countries (7 pts)"
   ]
  },
  {
   "cell_type": "markdown",
   "metadata": {},
   "source": [
    "#### DATA\n",
    "The data set **gapminder.csv** is provided for this lab. This file contains the data from the [gapminder](https://www.gapminder.org/) website, which you have already explored in the tutorial for Class 6. \n",
    "\n",
    "The file has the following fields:\n",
    "- **ID** numerical identifier for each country.\n",
    "- **country** Country name.\n",
    "- **year** The year of data collection\n",
    "- **population** Estimated total population at mid-year, including all residents, apart from refugees.\n",
    "- **cont** Continent each country belongs to\n",
    "- **life_expect**  Life expectancy at birth, in years.\n",
    "- **gdp_cap** Gross Domestic Product per capita in current international dollars, corrected for purchasing power in different territories."
   ]
  },
  {
   "cell_type": "markdown",
   "metadata": {},
   "source": [
    "###  (A) Import the dataset into a data frame"
   ]
  },
  {
   "cell_type": "markdown",
   "metadata": {},
   "source": [
    "Import the file **gapminder.csv** into a DataFrame called **df**. Use each country's name as the index.  Print the first 6 rows of **df**."
   ]
  },
  {
   "cell_type": "code",
   "execution_count": 1,
   "metadata": {},
   "outputs": [
    {
     "data": {
      "text/html": [
       "<div>\n",
       "<style scoped>\n",
       "    .dataframe tbody tr th:only-of-type {\n",
       "        vertical-align: middle;\n",
       "    }\n",
       "\n",
       "    .dataframe tbody tr th {\n",
       "        vertical-align: top;\n",
       "    }\n",
       "\n",
       "    .dataframe thead th {\n",
       "        text-align: right;\n",
       "    }\n",
       "</style>\n",
       "<table border=\"1\" class=\"dataframe\">\n",
       "  <thead>\n",
       "    <tr style=\"text-align: right;\">\n",
       "      <th></th>\n",
       "      <th>ID</th>\n",
       "      <th>year</th>\n",
       "      <th>population</th>\n",
       "      <th>cont</th>\n",
       "      <th>life_exp</th>\n",
       "      <th>gdp_cap</th>\n",
       "    </tr>\n",
       "    <tr>\n",
       "      <th>country</th>\n",
       "      <th></th>\n",
       "      <th></th>\n",
       "      <th></th>\n",
       "      <th></th>\n",
       "      <th></th>\n",
       "      <th></th>\n",
       "    </tr>\n",
       "  </thead>\n",
       "  <tbody>\n",
       "    <tr>\n",
       "      <td>Afghanistan</td>\n",
       "      <td>11</td>\n",
       "      <td>2007</td>\n",
       "      <td>31889923</td>\n",
       "      <td>Asia</td>\n",
       "      <td>43.828</td>\n",
       "      <td>974.580338</td>\n",
       "    </tr>\n",
       "    <tr>\n",
       "      <td>Albania</td>\n",
       "      <td>23</td>\n",
       "      <td>2007</td>\n",
       "      <td>3600523</td>\n",
       "      <td>Europe</td>\n",
       "      <td>76.423</td>\n",
       "      <td>5937.029526</td>\n",
       "    </tr>\n",
       "    <tr>\n",
       "      <td>Algeria</td>\n",
       "      <td>35</td>\n",
       "      <td>2007</td>\n",
       "      <td>33333216</td>\n",
       "      <td>Africa</td>\n",
       "      <td>72.301</td>\n",
       "      <td>6223.367465</td>\n",
       "    </tr>\n",
       "    <tr>\n",
       "      <td>Angola</td>\n",
       "      <td>47</td>\n",
       "      <td>2007</td>\n",
       "      <td>12420476</td>\n",
       "      <td>Africa</td>\n",
       "      <td>42.731</td>\n",
       "      <td>4797.231267</td>\n",
       "    </tr>\n",
       "    <tr>\n",
       "      <td>Argentina</td>\n",
       "      <td>59</td>\n",
       "      <td>2007</td>\n",
       "      <td>40301927</td>\n",
       "      <td>Americas</td>\n",
       "      <td>75.320</td>\n",
       "      <td>12779.379640</td>\n",
       "    </tr>\n",
       "    <tr>\n",
       "      <td>Australia</td>\n",
       "      <td>71</td>\n",
       "      <td>2007</td>\n",
       "      <td>20434176</td>\n",
       "      <td>Oceania</td>\n",
       "      <td>81.235</td>\n",
       "      <td>34435.367440</td>\n",
       "    </tr>\n",
       "  </tbody>\n",
       "</table>\n",
       "</div>"
      ],
      "text/plain": [
       "             ID  year  population      cont  life_exp       gdp_cap\n",
       "country                                                            \n",
       "Afghanistan  11  2007    31889923      Asia    43.828    974.580338\n",
       "Albania      23  2007     3600523    Europe    76.423   5937.029526\n",
       "Algeria      35  2007    33333216    Africa    72.301   6223.367465\n",
       "Angola       47  2007    12420476    Africa    42.731   4797.231267\n",
       "Argentina    59  2007    40301927  Americas    75.320  12779.379640\n",
       "Australia    71  2007    20434176   Oceania    81.235  34435.367440"
      ]
     },
     "execution_count": 1,
     "metadata": {},
     "output_type": "execute_result"
    }
   ],
   "source": [
    "#imports\n",
    "import matplotlib.pyplot as plt\n",
    "import pandas as pd\n",
    "#df is created with data from \"gapminder.csv\"\n",
    "df = pd.read_csv(\"gapminder.csv\", index_col = \"country\")\n",
    "#first 6 rows are printed\n",
    "df.head(6)"
   ]
  },
  {
   "cell_type": "markdown",
   "metadata": {},
   "source": [
    "### (B) Determine the countries with the highest and lowest total GDP"
   ]
  },
  {
   "cell_type": "markdown",
   "metadata": {},
   "source": [
    "Calculate the total GDP by multiplying per capita GDP by country population. Make an additional column **gdp_total** which contains total GDP for each country in millions of dollars. Sort countries by their total GDP and print the top ten countries with largest GDP."
   ]
  },
  {
   "cell_type": "code",
   "execution_count": 2,
   "metadata": {},
   "outputs": [
    {
     "name": "stdout",
     "output_type": "stream",
     "text": [
      "The 10 countries with the highest total GDP are the following:  United States, China, Japan, India, Germany, United Kingdom, France, Brazil, Italy, Mexico\n"
     ]
    }
   ],
   "source": [
    "#new column \"gdp_total\" is created by multiplying column \"gdp_cap\" and \"population\"\n",
    "df['gdp_total'] = df['gdp_cap'] * df['population'] / 1000000\n",
    "\n",
    "#countries are sorted by thier total GDP\n",
    "dfSorted = df.sort_values(by =['gdp_total'],ascending = False)\n",
    "\n",
    "#top 10 countries with the largest GDP are printed\n",
    "print(\"The 10 countries with the highest total GDP are the following: \", \", \".join(dfSorted.index[:10]))"
   ]
  },
  {
   "cell_type": "markdown",
   "metadata": {},
   "source": [
    "### (C) Distribution of life expectancy over different continents"
   ]
  },
  {
   "cell_type": "markdown",
   "metadata": {},
   "source": [
    "Plot histograms of the life expectancy distribution for the different continents represented in the dataset. \n",
    "Note 1: Only plot a meaningful distribution. Do not plot a distribution if you have less than 5 countries. Make sure to check this condition algorithmically, not manually. \n",
    "Note 2: To provide meaningful comparisons, make sure that all of your histograms have the same range of x- and y- axis and the same number of bins.\n",
    "Note 3: Although using loops can slow down analysis of big datasets, they can be very useful in plotting. Since the commands for each subplot are very similar, please use **for** or **while** loops for plotting individual subplots."
   ]
  },
  {
   "cell_type": "code",
   "execution_count": 3,
   "metadata": {},
   "outputs": [
    {
     "data": {
      "image/png": "[encoded data removed]",
      "text/plain": [
       "<Figure size 720x1080 with 4 Axes>"
      ]
     },
     "metadata": {
      "needs_background": "light"
     },
     "output_type": "display_data"
    }
   ],
   "source": [
    "#figure size is set\n",
    "plt.figure(figsize = (10, 15))\n",
    "\n",
    "#count is set to 1\n",
    "count = 1\n",
    "\n",
    "#unique continents variable is set\n",
    "unique_conts = df.cont.unique()\n",
    "\n",
    "for thing in unique_conts:\n",
    "    new_df = df[df.cont == thing]\n",
    "    #size is greater than 5\n",
    "    if new_df.shape[0] > 5:\n",
    "        #new subdata frames with continents\n",
    "        plt.subplot(4,1,count)\n",
    "        life_exp = new_df['life_exp']\n",
    "        plt.hist(life_exp, bins = 8)\n",
    "        count = count + 1\n",
    "        \n",
    "        #title is added\n",
    "        plt.title(thing)\n",
    "        \n",
    "        #x and y limits are set\n",
    "        plt.ylim(0, 12)\n",
    "        plt.xlim(35, 85)\n",
    "\n",
    "        #x and y ticks are set\n",
    "        plt.xticks(fontsize=13)\n",
    "        plt.yticks(fontsize=13)\n",
    "\n",
    "#axix labels\n",
    "plt.xlabel('life expectancy', fontsize=15)\n",
    "plt.ylabel('number of countries', fontsize=15)\n",
    "\n",
    "#plot is shown\n",
    "plt.show()"
   ]
  },
  {
   "cell_type": "markdown",
   "metadata": {},
   "source": [
    "<font size = '5' color='Red'>\n",
    "When plotting stacked histograms, you need to specify a range() argument within your plt.hist() function so that all four histograms will plot bins using the same start and end point. This allows for a more honest comparison between the distribution.\n",
    "\n",
    "-1/4 point\n",
    "</font>"
   ]
  },
  {
   "cell_type": "markdown",
   "metadata": {},
   "source": [
    "## Conclusion:"
   ]
  },
  {
   "cell_type": "markdown",
   "metadata": {},
   "source": [
    "In the cell below, provide a brief description of the trend in th edistribution of life expectancy in different continents."
   ]
  },
  {
   "cell_type": "markdown",
   "metadata": {},
   "source": [
    "There is a large difference in the life expectancies in different continents. The continents with the highest life expectancy is Europe and the Americas. Africa is the continent with the lowest life expectancy. Asia has a life expectancy in between the three aformentioned continents."
   ]
  },
  {
   "cell_type": "markdown",
   "metadata": {},
   "source": [
    "## Problem 2: Diabetes mortality in OECD countries(8 pts)"
   ]
  },
  {
   "cell_type": "markdown",
   "metadata": {},
   "source": [
    "#### DATA\n",
    "The second file provided for this lab, **oecd_diabetes.csv**  contains the data on mortality from Diabetes-related causes within the Organisation for Economic Co-operation and Development(OECD) countries.  The file has the following fields:\n",
    "- **COU** Three-letter abbreviation for each country.\n",
    "- **country** Country name.\n",
    "- **year** Year of data collection\n",
    "- **diabetes_mortality** Mortality from diabete-related causes. Calculated as number of deaths per 100000 population."
   ]
  },
  {
   "cell_type": "markdown",
   "metadata": {},
   "source": [
    "###  (A)Countries with highest and lowest mortality from diabetes"
   ]
  },
  {
   "cell_type": "markdown",
   "metadata": {},
   "source": [
    "Import the file **oecd_diabetes.csv** into a dataframe named **df_diabetes**. Use each country's name as an index.  Print the first 6 rows of **df_diabetes**. Sort countries by diabetes mortality from highest to lowest, and print the top ten countries with highest diabetic mortality."
   ]
  },
  {
   "cell_type": "code",
   "execution_count": 4,
   "metadata": {},
   "outputs": [
    {
     "data": {
      "text/html": [
       "<div>\n",
       "<style scoped>\n",
       "    .dataframe tbody tr th:only-of-type {\n",
       "        vertical-align: middle;\n",
       "    }\n",
       "\n",
       "    .dataframe tbody tr th {\n",
       "        vertical-align: top;\n",
       "    }\n",
       "\n",
       "    .dataframe thead th {\n",
       "        text-align: right;\n",
       "    }\n",
       "</style>\n",
       "<table border=\"1\" class=\"dataframe\">\n",
       "  <thead>\n",
       "    <tr style=\"text-align: right;\">\n",
       "      <th></th>\n",
       "      <th>COU</th>\n",
       "      <th>year</th>\n",
       "      <th>diabetes_mortality</th>\n",
       "    </tr>\n",
       "    <tr>\n",
       "      <th>country</th>\n",
       "      <th></th>\n",
       "      <th></th>\n",
       "      <th></th>\n",
       "    </tr>\n",
       "  </thead>\n",
       "  <tbody>\n",
       "    <tr>\n",
       "      <td>Greece</td>\n",
       "      <td>GRC</td>\n",
       "      <td>2007</td>\n",
       "      <td>12.6</td>\n",
       "    </tr>\n",
       "    <tr>\n",
       "      <td>Australia</td>\n",
       "      <td>AUS</td>\n",
       "      <td>2007</td>\n",
       "      <td>18.3</td>\n",
       "    </tr>\n",
       "    <tr>\n",
       "      <td>Denmark</td>\n",
       "      <td>DNK</td>\n",
       "      <td>2007</td>\n",
       "      <td>23.9</td>\n",
       "    </tr>\n",
       "    <tr>\n",
       "      <td>New Zealand</td>\n",
       "      <td>NZL</td>\n",
       "      <td>2007</td>\n",
       "      <td>20.1</td>\n",
       "    </tr>\n",
       "    <tr>\n",
       "      <td>Israel</td>\n",
       "      <td>ISR</td>\n",
       "      <td>2007</td>\n",
       "      <td>34.0</td>\n",
       "    </tr>\n",
       "    <tr>\n",
       "      <td>Germany</td>\n",
       "      <td>DEU</td>\n",
       "      <td>2007</td>\n",
       "      <td>26.6</td>\n",
       "    </tr>\n",
       "  </tbody>\n",
       "</table>\n",
       "</div>"
      ],
      "text/plain": [
       "             COU  year  diabetes_mortality\n",
       "country                                   \n",
       "Greece       GRC  2007                12.6\n",
       "Australia    AUS  2007                18.3\n",
       "Denmark      DNK  2007                23.9\n",
       "New Zealand  NZL  2007                20.1\n",
       "Israel       ISR  2007                34.0\n",
       "Germany      DEU  2007                26.6"
      ]
     },
     "metadata": {},
     "output_type": "display_data"
    },
    {
     "name": "stdout",
     "output_type": "stream",
     "text": [
      "The 10 countries with the highest diabetes mortality are the following:  Mexico, Portugal, Austria, Israel, Italy, Hungary, Germany, Denmark, United States, Czech Republic\n"
     ]
    }
   ],
   "source": [
    "#df is created with data from \"gapminder.csv\"\n",
    "df_diabetes = pd.read_csv(\"oecd_diabetes.csv\", index_col = \"country\")\n",
    "\n",
    "#first 6 rows in df_diabetes are displayed\n",
    "display(df_diabetes.head(6))\n",
    "\n",
    "#values are sorted\n",
    "dfSorted = df_diabetes.sort_values(by =['diabetes_mortality'],ascending = False)\n",
    "\n",
    "#top 10 countries with the highest diabetes mortality are printed\n",
    "print(\"The 10 countries with the highest diabetes mortality are the following: \", \", \".join(dfSorted.index[:10]))"
   ]
  },
  {
   "cell_type": "markdown",
   "metadata": {},
   "source": [
    "### (B) Comparing the gapminder and OECD datasets"
   ]
  },
  {
   "cell_type": "markdown",
   "metadata": {},
   "source": [
    "How many countries are in the OECD dataframe (make an informative printout of this answer). Does the **df** dataframe from **gapminder.csv** data set contain all of the OECD countries? How many total countries are in the **df** data frame? Which OECD countries are missing (provide an informative printout)?"
   ]
  },
  {
   "cell_type": "code",
   "execution_count": 5,
   "metadata": {},
   "outputs": [
    {
     "name": "stdout",
     "output_type": "stream",
     "text": [
      "There are  35 countries in the OECD dataframe\n",
      "There are  142 countries in the gapminder dataframe\n",
      "The countries in the OECD dataframe but not in Gapminder are the following:  Estonia, Korea, Latvia, Lithuania, Luxembourg\n"
     ]
    }
   ],
   "source": [
    "#numpy is imported\n",
    "import numpy as np\n",
    "\n",
    "#shapes are printed\n",
    "print(\"There are \", df_diabetes.shape[0], \"countries in the OECD dataframe\")\n",
    "print(\"There are \", df.shape[0], \"countries in the gapminder dataframe\")\n",
    "\n",
    "#in df_diabetes but not in array df\n",
    "difference = np.setdiff1d(df_diabetes.index, df.index)\n",
    "\n",
    "#print statement for countries in the OECD but not in Gapminder\n",
    "print(\"The countries in the OECD dataframe but not in Gapminder are the following: \", \", \".join(difference))"
   ]
  },
  {
   "cell_type": "markdown",
   "metadata": {},
   "source": [
    "### (C) Demographics of OECD countries"
   ]
  },
  {
   "cell_type": "markdown",
   "metadata": {},
   "source": [
    "Make a new DataFrame named **df_oecd** which contains *population*, *continent*, *life expectancy*, *total GDP*, and *diabetes_mortality* for the OECD COUNTRIES ONLY. \n",
    "\n",
    "Notice that the data for some of the OECD countries are missing in the **gapminder.csv** dataset. If your data frame contains rows for countries with missing data, please remove such rows (the **.dropna** method can be useful here). \n",
    "\n",
    "How many countries are in your df_oecd dataframe? Is the number of rows the same as the number of countries you have determined in the previos sub-question? Sort by population size and print the data for the 10 most populous countries.\n",
    "\n",
    "**Answer all of the above questions with informative output.**"
   ]
  },
  {
   "cell_type": "code",
   "execution_count": 6,
   "metadata": {},
   "outputs": [
    {
     "name": "stdout",
     "output_type": "stream",
     "text": [
      "There are  30 countries in the df_oecd datadrame\n",
      "There were 5 countries who were in OECD dataframe but not in Gapminder. Therefore, the number of overlapping countries is 5 less than was in the original OECD dataframe\n"
     ]
    },
    {
     "name": "stderr",
     "output_type": "stream",
     "text": [
      "/Users/asackman/opt/anaconda3/lib/python3.7/site-packages/pandas/core/indexing.py:1418: FutureWarning: \n",
      "Passing list-likes to .loc or [] with any missing label will raise\n",
      "KeyError in the future, you can use .reindex() as an alternative.\n",
      "\n",
      "See the documentation here:\n",
      "https://pandas.pydata.org/pandas-docs/stable/user_guide/indexing.html#deprecate-loc-reindex-listlike\n",
      "  return self._getitem_tuple(key)\n"
     ]
    },
    {
     "data": {
      "text/html": [
       "<div>\n",
       "<style scoped>\n",
       "    .dataframe tbody tr th:only-of-type {\n",
       "        vertical-align: middle;\n",
       "    }\n",
       "\n",
       "    .dataframe tbody tr th {\n",
       "        vertical-align: top;\n",
       "    }\n",
       "\n",
       "    .dataframe thead th {\n",
       "        text-align: right;\n",
       "    }\n",
       "</style>\n",
       "<table border=\"1\" class=\"dataframe\">\n",
       "  <thead>\n",
       "    <tr style=\"text-align: right;\">\n",
       "      <th></th>\n",
       "      <th>population</th>\n",
       "      <th>cont</th>\n",
       "      <th>life_exp</th>\n",
       "      <th>gdp_total</th>\n",
       "      <th>diabetes_mortality</th>\n",
       "    </tr>\n",
       "    <tr>\n",
       "      <th>country</th>\n",
       "      <th></th>\n",
       "      <th></th>\n",
       "      <th></th>\n",
       "      <th></th>\n",
       "      <th></th>\n",
       "    </tr>\n",
       "  </thead>\n",
       "  <tbody>\n",
       "    <tr>\n",
       "      <td>United States</td>\n",
       "      <td>301139947</td>\n",
       "      <td>Americas</td>\n",
       "      <td>78.242</td>\n",
       "      <td>1.293446e+07</td>\n",
       "      <td>23.7</td>\n",
       "    </tr>\n",
       "    <tr>\n",
       "      <td>Japan</td>\n",
       "      <td>127467972</td>\n",
       "      <td>Asia</td>\n",
       "      <td>82.603</td>\n",
       "      <td>4.035135e+06</td>\n",
       "      <td>10.9</td>\n",
       "    </tr>\n",
       "    <tr>\n",
       "      <td>Mexico</td>\n",
       "      <td>108700891</td>\n",
       "      <td>Americas</td>\n",
       "      <td>76.195</td>\n",
       "      <td>1.301973e+06</td>\n",
       "      <td>63.0</td>\n",
       "    </tr>\n",
       "    <tr>\n",
       "      <td>Germany</td>\n",
       "      <td>82400996</td>\n",
       "      <td>Europe</td>\n",
       "      <td>79.406</td>\n",
       "      <td>2.650871e+06</td>\n",
       "      <td>26.6</td>\n",
       "    </tr>\n",
       "    <tr>\n",
       "      <td>France</td>\n",
       "      <td>61083916</td>\n",
       "      <td>Europe</td>\n",
       "      <td>80.657</td>\n",
       "      <td>1.861228e+06</td>\n",
       "      <td>17.2</td>\n",
       "    </tr>\n",
       "    <tr>\n",
       "      <td>United Kingdom</td>\n",
       "      <td>60776238</td>\n",
       "      <td>Europe</td>\n",
       "      <td>79.425</td>\n",
       "      <td>2.017969e+06</td>\n",
       "      <td>10.4</td>\n",
       "    </tr>\n",
       "    <tr>\n",
       "      <td>Italy</td>\n",
       "      <td>58147733</td>\n",
       "      <td>Europe</td>\n",
       "      <td>80.546</td>\n",
       "      <td>1.661264e+06</td>\n",
       "      <td>34.0</td>\n",
       "    </tr>\n",
       "    <tr>\n",
       "      <td>Spain</td>\n",
       "      <td>40448191</td>\n",
       "      <td>Europe</td>\n",
       "      <td>80.941</td>\n",
       "      <td>1.165760e+06</td>\n",
       "      <td>22.4</td>\n",
       "    </tr>\n",
       "    <tr>\n",
       "      <td>Poland</td>\n",
       "      <td>38518241</td>\n",
       "      <td>Europe</td>\n",
       "      <td>75.563</td>\n",
       "      <td>5.927928e+05</td>\n",
       "      <td>16.7</td>\n",
       "    </tr>\n",
       "    <tr>\n",
       "      <td>Canada</td>\n",
       "      <td>33390141</td>\n",
       "      <td>Americas</td>\n",
       "      <td>80.653</td>\n",
       "      <td>1.212704e+06</td>\n",
       "      <td>22.5</td>\n",
       "    </tr>\n",
       "  </tbody>\n",
       "</table>\n",
       "</div>"
      ],
      "text/plain": [
       "                population      cont  life_exp     gdp_total  \\\n",
       "country                                                        \n",
       "United States    301139947  Americas    78.242  1.293446e+07   \n",
       "Japan            127467972      Asia    82.603  4.035135e+06   \n",
       "Mexico           108700891  Americas    76.195  1.301973e+06   \n",
       "Germany           82400996    Europe    79.406  2.650871e+06   \n",
       "France            61083916    Europe    80.657  1.861228e+06   \n",
       "United Kingdom    60776238    Europe    79.425  2.017969e+06   \n",
       "Italy             58147733    Europe    80.546  1.661264e+06   \n",
       "Spain             40448191    Europe    80.941  1.165760e+06   \n",
       "Poland            38518241    Europe    75.563  5.927928e+05   \n",
       "Canada            33390141  Americas    80.653  1.212704e+06   \n",
       "\n",
       "                diabetes_mortality  \n",
       "country                             \n",
       "United States                 23.7  \n",
       "Japan                         10.9  \n",
       "Mexico                        63.0  \n",
       "Germany                       26.6  \n",
       "France                        17.2  \n",
       "United Kingdom                10.4  \n",
       "Italy                         34.0  \n",
       "Spain                         22.4  \n",
       "Poland                        16.7  \n",
       "Canada                        22.5  "
      ]
     },
     "execution_count": 6,
     "metadata": {},
     "output_type": "execute_result"
    }
   ],
   "source": [
    "#intersection of df and df_diabetes\n",
    "shared_countries = np.intersect1d(df.index, df_diabetes.index)\n",
    "\n",
    "#new dataframe is created\n",
    "df_oecd = df.loc[shared_countries,[\"population\", \"cont\", \"life_exp\", \"gdp_total\", \"diabetes_mortality\"]]\n",
    "df_oecd.diabetes_mortality = df_diabetes.loc[shared_countries,[\"diabetes_mortality\"]]\n",
    "\n",
    "#rows with missing data are removed\n",
    "df_oecd.dropna(how = 'any')\n",
    "\n",
    "#print statements\n",
    "print(\"There are \", df_oecd.shape[0], \"countries in the df_oecd datadrame\")\n",
    "print(\"There were 5 countries who were in OECD dataframe but not in Gapminder. Therefore, the number of overlapping countries is 5 less than was in the original OECD dataframe\")\n",
    "\n",
    "#data is sorted\n",
    "oecdSorted = df_oecd.sort_values(by ='population',ascending = False)\n",
    "\n",
    "#first 10 values are printed\n",
    "oecdSorted.head(10)"
   ]
  },
  {
   "cell_type": "markdown",
   "metadata": {},
   "source": [
    "### (D) Combine demographics and diabetes data for OECD countries"
   ]
  },
  {
   "cell_type": "markdown",
   "metadata": {},
   "source": [
    "Add another column to **df_oecd** called **total_diabetes_mortality**. Calculate thev total number of deaths from diabetes in each of the countries. Print a DataFrame of the countries with the top ten diabetic mortality values."
   ]
  },
  {
   "cell_type": "code",
   "execution_count": 7,
   "metadata": {},
   "outputs": [
    {
     "data": {
      "text/html": [
       "<div>\n",
       "<style scoped>\n",
       "    .dataframe tbody tr th:only-of-type {\n",
       "        vertical-align: middle;\n",
       "    }\n",
       "\n",
       "    .dataframe tbody tr th {\n",
       "        vertical-align: top;\n",
       "    }\n",
       "\n",
       "    .dataframe thead th {\n",
       "        text-align: right;\n",
       "    }\n",
       "</style>\n",
       "<table border=\"1\" class=\"dataframe\">\n",
       "  <thead>\n",
       "    <tr style=\"text-align: right;\">\n",
       "      <th></th>\n",
       "      <th>population</th>\n",
       "      <th>cont</th>\n",
       "      <th>life_exp</th>\n",
       "      <th>gdp_total</th>\n",
       "      <th>diabetes_mortality</th>\n",
       "      <th>total_diabetes_mortality</th>\n",
       "    </tr>\n",
       "    <tr>\n",
       "      <th>country</th>\n",
       "      <th></th>\n",
       "      <th></th>\n",
       "      <th></th>\n",
       "      <th></th>\n",
       "      <th></th>\n",
       "      <th></th>\n",
       "    </tr>\n",
       "  </thead>\n",
       "  <tbody>\n",
       "    <tr>\n",
       "      <td>Mexico</td>\n",
       "      <td>108700891</td>\n",
       "      <td>Americas</td>\n",
       "      <td>76.195</td>\n",
       "      <td>1.301973e+06</td>\n",
       "      <td>63.0</td>\n",
       "      <td>6300000.0</td>\n",
       "    </tr>\n",
       "    <tr>\n",
       "      <td>Portugal</td>\n",
       "      <td>10642836</td>\n",
       "      <td>Europe</td>\n",
       "      <td>78.098</td>\n",
       "      <td>2.182808e+05</td>\n",
       "      <td>41.7</td>\n",
       "      <td>4170000.0</td>\n",
       "    </tr>\n",
       "    <tr>\n",
       "      <td>Austria</td>\n",
       "      <td>8199783</td>\n",
       "      <td>Europe</td>\n",
       "      <td>79.829</td>\n",
       "      <td>2.962294e+05</td>\n",
       "      <td>37.6</td>\n",
       "      <td>3760000.0</td>\n",
       "    </tr>\n",
       "    <tr>\n",
       "      <td>Italy</td>\n",
       "      <td>58147733</td>\n",
       "      <td>Europe</td>\n",
       "      <td>80.546</td>\n",
       "      <td>1.661264e+06</td>\n",
       "      <td>34.0</td>\n",
       "      <td>3400000.0</td>\n",
       "    </tr>\n",
       "    <tr>\n",
       "      <td>Israel</td>\n",
       "      <td>6426679</td>\n",
       "      <td>Asia</td>\n",
       "      <td>80.745</td>\n",
       "      <td>1.640299e+05</td>\n",
       "      <td>34.0</td>\n",
       "      <td>3400000.0</td>\n",
       "    </tr>\n",
       "    <tr>\n",
       "      <td>Hungary</td>\n",
       "      <td>9956108</td>\n",
       "      <td>Europe</td>\n",
       "      <td>73.338</td>\n",
       "      <td>1.792990e+05</td>\n",
       "      <td>30.1</td>\n",
       "      <td>3010000.0</td>\n",
       "    </tr>\n",
       "    <tr>\n",
       "      <td>Germany</td>\n",
       "      <td>82400996</td>\n",
       "      <td>Europe</td>\n",
       "      <td>79.406</td>\n",
       "      <td>2.650871e+06</td>\n",
       "      <td>26.6</td>\n",
       "      <td>2660000.0</td>\n",
       "    </tr>\n",
       "    <tr>\n",
       "      <td>Denmark</td>\n",
       "      <td>5468120</td>\n",
       "      <td>Europe</td>\n",
       "      <td>78.332</td>\n",
       "      <td>1.929066e+05</td>\n",
       "      <td>23.9</td>\n",
       "      <td>2390000.0</td>\n",
       "    </tr>\n",
       "    <tr>\n",
       "      <td>United States</td>\n",
       "      <td>301139947</td>\n",
       "      <td>Americas</td>\n",
       "      <td>78.242</td>\n",
       "      <td>1.293446e+07</td>\n",
       "      <td>23.7</td>\n",
       "      <td>2370000.0</td>\n",
       "    </tr>\n",
       "    <tr>\n",
       "      <td>Czech Republic</td>\n",
       "      <td>10228744</td>\n",
       "      <td>Europe</td>\n",
       "      <td>76.486</td>\n",
       "      <td>2.335561e+05</td>\n",
       "      <td>23.6</td>\n",
       "      <td>2360000.0</td>\n",
       "    </tr>\n",
       "  </tbody>\n",
       "</table>\n",
       "</div>"
      ],
      "text/plain": [
       "                population      cont  life_exp     gdp_total  \\\n",
       "country                                                        \n",
       "Mexico           108700891  Americas    76.195  1.301973e+06   \n",
       "Portugal          10642836    Europe    78.098  2.182808e+05   \n",
       "Austria            8199783    Europe    79.829  2.962294e+05   \n",
       "Italy             58147733    Europe    80.546  1.661264e+06   \n",
       "Israel             6426679      Asia    80.745  1.640299e+05   \n",
       "Hungary            9956108    Europe    73.338  1.792990e+05   \n",
       "Germany           82400996    Europe    79.406  2.650871e+06   \n",
       "Denmark            5468120    Europe    78.332  1.929066e+05   \n",
       "United States    301139947  Americas    78.242  1.293446e+07   \n",
       "Czech Republic    10228744    Europe    76.486  2.335561e+05   \n",
       "\n",
       "                diabetes_mortality  total_diabetes_mortality  \n",
       "country                                                       \n",
       "Mexico                        63.0                 6300000.0  \n",
       "Portugal                      41.7                 4170000.0  \n",
       "Austria                       37.6                 3760000.0  \n",
       "Italy                         34.0                 3400000.0  \n",
       "Israel                        34.0                 3400000.0  \n",
       "Hungary                       30.1                 3010000.0  \n",
       "Germany                       26.6                 2660000.0  \n",
       "Denmark                       23.9                 2390000.0  \n",
       "United States                 23.7                 2370000.0  \n",
       "Czech Republic                23.6                 2360000.0  "
      ]
     },
     "execution_count": 7,
     "metadata": {},
     "output_type": "execute_result"
    }
   ],
   "source": [
    "#new column is added with total diabetes mortality\n",
    "oecdSorted['total_diabetes_mortality'] = oecdSorted['diabetes_mortality'] * 100000\n",
    "\n",
    "#data is sorted\n",
    "oecdSorted = oecdSorted.sort_values(by ='total_diabetes_mortality',ascending = False)\n",
    "\n",
    "#top 10 values are printed\n",
    "oecdSorted.head(10)"
   ]
  },
  {
   "cell_type": "markdown",
   "metadata": {},
   "source": [
    "<font size = '5' color='Red'>\n",
    "When you created your total diabetes mortality column, you just multiplied diabetes_mortality per 1000 people by 100000, rather than multiplying by the nation's population. This also affected your plot further down.\n",
    "   \n",
    "\n",
    "-1/2 point\n",
    "</font>"
   ]
  },
  {
   "cell_type": "markdown",
   "metadata": {},
   "source": [
    "### (E) Plot diabetes mortality vs. total GDP for different countries"
   ]
  },
  {
   "cell_type": "markdown",
   "metadata": {},
   "source": [
    "Make a scatter plot for diabetes mortality vs. total GDP for OECD countries. Use a different color for each of the different geographical regions. Be sure to include a legend that tells us what region each color represents. Include informative axes with font sizes equal to 14."
   ]
  },
  {
   "cell_type": "code",
   "execution_count": 8,
   "metadata": {},
   "outputs": [
    {
     "data": {
      "image/png": "[encoded data removed]",
      "text/plain": [
       "<Figure size 720x720 with 1 Axes>"
      ]
     },
     "metadata": {
      "needs_background": "light"
     },
     "output_type": "display_data"
    }
   ],
   "source": [
    "#figure size is changed to a 10\" x 10\"\n",
    "plt.figure(figsize=(10,10)) \n",
    "\n",
    "#new variable is created with unique()\n",
    "unique = df_oecd.cont.unique()\n",
    "\n",
    "#scatterplots are created\n",
    "for thing in unique:\n",
    "    new_df = df_oecd[df_oecd.cont == thing]\n",
    "    plt.scatter(new_df.gdp_total, new_df.diabetes_mortality, label = thing)\n",
    "\n",
    "#legend\n",
    "plt.legend(loc=\"best\")\n",
    "\n",
    "#title is added\n",
    "plt.title(\"Diabetes Mortality vs. Total GDP\", fontsize=24)\n",
    "\n",
    "#x and y labels are added\n",
    "plt.ylabel(\"diabetes mortality\", fontsize=14)\n",
    "plt.xlabel(\"total gdp\", fontsize=14)\n",
    "\n",
    "#tick sizes are changed\n",
    "plt.xticks(fontsize=14)\n",
    "plt.yticks(fontsize=14)\n",
    "\n",
    "#scatterplot is displayed\n",
    "plt.show()"
   ]
  },
  {
   "cell_type": "markdown",
   "metadata": {},
   "source": [
    " ###  (F) Conduct your own analysis of diabetes in OECD"
   ]
  },
  {
   "cell_type": "markdown",
   "metadata": {},
   "source": [
    "Do you think the graph above is enough to make a conclusion about diabetes-related mortality in developed countries? Conduct additional data exploration, and make at least one meaningful plot. In the final cell block at the bottom of the page, provide a brief written description of your findings."
   ]
  },
  {
   "cell_type": "code",
   "execution_count": 9,
   "metadata": {},
   "outputs": [
    {
     "data": {
      "image/png": "[encoded data removed]",
      "text/plain": [
       "<Figure size 720x720 with 1 Axes>"
      ]
     },
     "metadata": {
      "needs_background": "light"
     },
     "output_type": "display_data"
    }
   ],
   "source": [
    "#figure size is changed to a 10\" x 10\"\n",
    "plt.figure(figsize=(10,10)) \n",
    "\n",
    "unique = df_oecd.cont.unique()\n",
    "\n",
    "\n",
    "\n",
    "for thing in unique:\n",
    "    new_df = df_oecd[df_oecd.cont == thing]\n",
    "    plt.scatter(new_df.life_exp, new_df.diabetes_mortality, label = thing)\n",
    "\n",
    "    \n",
    "    \n",
    "#legend\n",
    "plt.legend(loc=\"best\")\n",
    "\n",
    "#title is added\n",
    "plt.title(\"Diabetes Mortality vs. Life Expectancy\", fontsize=24)\n",
    "\n",
    "#x and y labels are added\n",
    "plt.ylabel(\"diabetes mortality\", fontsize=14)\n",
    "plt.xlabel(\"life expectancy\", fontsize=14)\n",
    "\n",
    "#tick sizes are changed\n",
    "plt.xticks(fontsize=14)\n",
    "plt.yticks(fontsize=14)\n",
    "\n",
    "#scatterplot is displayed\n",
    "plt.show()"
   ]
  },
  {
   "cell_type": "markdown",
   "metadata": {},
   "source": [
    "#### Conclusion"
   ]
  },
  {
   "cell_type": "markdown",
   "metadata": {
    "jupyter": {
     "outputs_hidden": true
    }
   },
   "source": [
    "We found that the rate of diabetes mortality does not have a correlation on life expectancy in our data. If a significant percentage of people in a country died from diabetes mortality, then the diabetes mortality rate would have a significant correlation on life expectancy."
   ]
  }
 ],
 "metadata": {
  "kernelspec": {
   "display_name": "Python 3",
   "language": "python",
   "name": "python3"
  },
  "language_info": {
   "codemirror_mode": {
    "name": "ipython",
    "version": 3
   },
   "file_extension": ".py",
   "mimetype": "text/x-python",
   "name": "python",
   "nbconvert_exporter": "python",
   "pygments_lexer": "ipython3",
   "version": "3.7.4"
  }
 },
 "nbformat": 4,
 "nbformat_minor": 4
}
